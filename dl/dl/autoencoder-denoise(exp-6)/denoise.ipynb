{
  "cells": [
    {
      "cell_type": "code",
      "execution_count": null,
      "metadata": {
        "id": "FZVz6aFT0oNG"
      },
      "outputs": [],
      "source": [
        "import tensorflow.keras.layers\n",
        "import tensorflow.keras.models\n",
        "import tensorflow.keras.optimizers\n",
        "import tensorflow.keras.datasets\n",
        "import numpy\n",
        "import matplotlib.pyplot"
      ]
    },
    {
      "cell_type": "code",
      "execution_count": null,
      "metadata": {
        "id": "woGT9oyQ0Gpy"
      },
      "outputs": [],
      "source": [
        "x = tensorflow.keras.layers.Input(shape=(784), name=\"encoder_input\")"
      ]
    },
    {
      "cell_type": "code",
      "execution_count": null,
      "metadata": {
        "id": "I5IdkUPY0hMp"
      },
      "outputs": [],
      "source": [
        "encoder_dense_layer1 = tensorflow.keras.layers.Dense(units=300, name=\"encoder_dense_1\")(x)\n",
        "encoder_activ_layer1 = tensorflow.keras.layers.LeakyReLU(name=\"encoder_leakyrelu_1\")(encoder_dense_layer1)"
      ]
    },
    {
      "cell_type": "code",
      "execution_count": null,
      "metadata": {
        "id": "J0ne_6Mg0jbu"
      },
      "outputs": [],
      "source": [
        "encoder_dense_layer2 = tensorflow.keras.layers.Dense(units=2, name=\"encoder_dense_2\")(encoder_activ_layer1)\n",
        "encoder_output = tensorflow.keras.layers.LeakyReLU(name=\"encoder_output\")(encoder_dense_layer2)"
      ]
    },
    {
      "cell_type": "code",
      "execution_count": null,
      "metadata": {
        "colab": {
          "base_uri": "https://localhost:8080/"
        },
        "id": "BRWMqDpd0vdr",
        "outputId": "83f1d516-6bed-4222-f229-992681acc6cf"
      },
      "outputs": [],
      "source": [
        "encoder = tensorflow.keras.models.Model(x, encoder_output, name=\"encoder_model\")\n",
        "encoder.summary()"
      ]
    },
    {
      "cell_type": "code",
      "execution_count": null,
      "metadata": {
        "id": "RLbU-KOZ0zRe"
      },
      "outputs": [],
      "source": [
        "decoder_input = tensorflow.keras.layers.Input(shape=(2), name=\"decoder_input\")"
      ]
    },
    {
      "cell_type": "code",
      "execution_count": null,
      "metadata": {
        "id": "usimUjfG0241"
      },
      "outputs": [],
      "source": [
        "decoder_dense_layer1 = tensorflow.keras.layers.Dense(units=300, name=\"decoder_dense_1\")(decoder_input)\n",
        "decoder_activ_layer1 = tensorflow.keras.layers.LeakyReLU(name=\"decoder_leakyrelu_1\")(decoder_dense_layer1)"
      ]
    },
    {
      "cell_type": "code",
      "execution_count": null,
      "metadata": {
        "id": "q35KSh1w05G0"
      },
      "outputs": [],
      "source": [
        "decoder_dense_layer2 = tensorflow.keras.layers.Dense(units=784, name=\"decoder_dense_2\")(decoder_activ_layer1)\n",
        "decoder_output = tensorflow.keras.layers.LeakyReLU(name=\"decoder_output\")(decoder_dense_layer2)"
      ]
    },
    {
      "cell_type": "code",
      "execution_count": null,
      "metadata": {
        "colab": {
          "base_uri": "https://localhost:8080/"
        },
        "id": "ZmHXTVWq07Me",
        "outputId": "7642169b-f38d-4d7b-854d-edfc053a3cba"
      },
      "outputs": [],
      "source": [
        "decoder = tensorflow.keras.models.Model(decoder_input, decoder_output, name=\"decoder_model\")\n",
        "decoder.summary()"
      ]
    },
    {
      "cell_type": "code",
      "execution_count": null,
      "metadata": {
        "id": "XSwsuEtg09MN"
      },
      "outputs": [],
      "source": [
        "ae_input = tensorflow.keras.layers.Input(shape=(784), name=\"AE_input\")\n",
        "ae_encoder_output = encoder(ae_input)\n",
        "ae_decoder_output = decoder(ae_encoder_output)"
      ]
    },
    {
      "cell_type": "code",
      "execution_count": null,
      "metadata": {
        "colab": {
          "base_uri": "https://localhost:8080/"
        },
        "id": "VlWd0tGm1ApN",
        "outputId": "1a7fdff4-7493-4ae5-b253-f84e06f801cb"
      },
      "outputs": [],
      "source": [
        "ae = tensorflow.keras.models.Model(ae_input, ae_decoder_output, name=\"AE\")\n",
        "ae.summary()"
      ]
    },
    {
      "cell_type": "code",
      "execution_count": null,
      "metadata": {
        "id": "c5C_2cet1DH1"
      },
      "outputs": [],
      "source": [
        "def rmse(y_true, y_predict):\n",
        "  return tensorflow.keras.backend.mean(tensorflow.keras.backend.square(y_true-y_predict))"
      ]
    },
    {
      "cell_type": "code",
      "execution_count": null,
      "metadata": {
        "colab": {
          "base_uri": "https://localhost:8080/"
        },
        "id": "d-BjEks11FXd",
        "outputId": "121d4b05-c9b0-499d-d768-441065c85135"
      },
      "outputs": [],
      "source": [
        "ae.compile(loss=\"mse\", optimizer=tensorflow.keras.optimizers.Adam(lr=0.0005))"
      ]
    },
    {
      "cell_type": "code",
      "execution_count": null,
      "metadata": {
        "colab": {
          "base_uri": "https://localhost:8080/"
        },
        "id": "cTbx2ln61HeI",
        "outputId": "5620fbdf-d299-4b42-cff0-5f2ff2a36ffc"
      },
      "outputs": [],
      "source": [
        "(x_train_orig, y_train), (x_test_orig, y_test) = tensorflow.keras.datasets.mnist.load_data()\n",
        "x_train_orig = x_train_orig.astype(\"float32\") / 255.0\n",
        "x_test_orig = x_test_orig.astype(\"float32\") / 255.0"
      ]
    },
    {
      "cell_type": "code",
      "execution_count": null,
      "metadata": {
        "id": "5qdvI5BS1J7I"
      },
      "outputs": [],
      "source": [
        "x_train = numpy.reshape(x_train_orig, newshape=(x_train_orig.shape[0], numpy.prod(x_train_orig.shape[1:])))\n",
        "x_test = numpy.reshape(x_test_orig, newshape=(x_test_orig.shape[0], numpy.prod(x_test_orig.shape[1:])))"
      ]
    },
    {
      "cell_type": "code",
      "execution_count": null,
      "metadata": {
        "colab": {
          "base_uri": "https://localhost:8080/"
        },
        "id": "ErFar8dL1MlD",
        "outputId": "29809a4d-0e6b-4e19-9746-00c921d145d5"
      },
      "outputs": [],
      "source": [
        "ae.fit(x_train, x_train, epochs=20, batch_size=256, shuffle=True, validation_data=(x_test, x_test))"
      ]
    },
    {
      "cell_type": "code",
      "execution_count": null,
      "metadata": {
        "colab": {
          "base_uri": "https://localhost:8080/"
        },
        "id": "d5RjHNVW1O9O",
        "outputId": "dee5ddb8-613b-43fd-dafb-0afa3a62a0c7"
      },
      "outputs": [],
      "source": [
        "encoded_images = encoder.predict(x_train)\n",
        "decoded_images = decoder.predict(encoded_images)\n",
        "decoded_images_orig = numpy.reshape(decoded_images, newshape=(decoded_images.shape[0], 28, 28))"
      ]
    },
    {
      "cell_type": "code",
      "execution_count": null,
      "metadata": {
        "colab": {
          "base_uri": "https://localhost:8080/",
          "height": 434
        },
        "id": "vX6nHtKc1yx2",
        "outputId": "0bcbd5cb-8088-4e5a-acf5-b4a1cdab6c8d"
      },
      "outputs": [],
      "source": [
        "num_images_to_show = 5\n",
        "for im_ind in range(num_images_to_show):\n",
        "  plot_ind = im_ind*2 + 1\n",
        "  rand_ind = numpy.random.randint(low=0, high=x_train.shape[0])\n",
        "  matplotlib.pyplot.subplot(num_images_to_show, 2, plot_ind)\n",
        "  matplotlib.pyplot.imshow(x_train_orig[rand_ind, :, :], cmap=\"gray\")\n",
        "  matplotlib.pyplot.subplot(num_images_to_show, 2, plot_ind+1)\n",
        "  matplotlib.pyplot.imshow(decoded_images_orig[rand_ind, :, :], cmap=\"gray\")"
      ]
    },
    {
      "cell_type": "code",
      "execution_count": null,
      "metadata": {
        "colab": {
          "base_uri": "https://localhost:8080/",
          "height": 452
        },
        "id": "HUJqKyIh13aB",
        "outputId": "ede82698-96e4-40c2-bf25-c4378b73951d"
      },
      "outputs": [],
      "source": [
        "matplotlib.pyplot.figure()\n",
        "matplotlib.pyplot.scatter(encoded_images[:, 0], encoded_images[:, 1], c=y_train)\n",
        "matplotlib.pyplot.colorbar()"
      ]
    }
  ],
  "metadata": {
    "colab": {
      "provenance": []
    },
    "kernelspec": {
      "display_name": "Python 3",
      "name": "python3"
    },
    "language_info": {
      "name": "python"
    }
  },
  "nbformat": 4,
  "nbformat_minor": 0
}
