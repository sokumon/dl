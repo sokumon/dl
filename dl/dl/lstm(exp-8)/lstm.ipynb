{
  "cells": [
    {
      "cell_type": "code",
      "execution_count": null,
      "metadata": {
        "id": "-EXVdZktFSEB"
      },
      "outputs": [],
      "source": [
        "apsit = \"\"\"A P Shah Institute of Technology Thane.\n",
        "A. P. Shah Institute of Technology (APSIT) has started functioning with commitment of imparting state of art technical education so as to inculcate conceptual know-how, analyzing skills, decision making abilities and leadership qualities in the students.\n",
        "APSIT stands committed to the intellectual and moral growth of every student.\n",
        "APSIT has experienced and proficient team which aspires to unlock the hidden potential in subconscious minds of students and to create competent Engineers with vision & social commitment.\n",
        "Parshvanath Charitable Trust\n",
        "A. P. Shah Institute of Technology is managed by Parshvanath Charitable Trust (PCT) which was established in November, 1993, under the leadership of Late Shri Ashokbhai Shah.\n",
        "PCT is committed, to provide all the world class facilities, infrastructure, technology and the appropriate environment to the students to achieve their goals of becoming successful professionals in the present era of globalization.\n",
        "The trust aspires to develop APSIT which will be recognized all over the globe as one of the prominent and authentic centres of technological training & research.\n",
        "BOARD OF TRUSTEES:\n",
        "SHRI. CHIRAG A. SHAH,     CHAIRMAN\n",
        "SHRI. NIRANJAN P. SHAH,     SECRETARY\n",
        "SMT. POOJA C. SHAH,     TRUSTEE\n",
        "SHRI. KUNTHAL N. SHAH,     TRUSTEE\n",
        "SHRI. MINESH N. SHAH,     TRUSTEE\n",
        "SHRI. HITANSHU C. SHAH,     TRUSTEE\n",
        "A. P. Shah Institute Of Technology is  governed by  Parshavnath Charitable Trust which was founded by my father Hon'ble Shree Ashokbhai P Shah in 1993.\n",
        "To run an engineering college in the trust my father had a dream that a person who comes to Mumbai, he can study in a good institute with a very low fees.\n",
        "It is my privilege to welcome you to the website of our Institute, dedicated to the quality technical education with all round development of the students to be competent professional Engineers of tomorrows to serve the society.\n",
        "We have exemplary infrastructural facilities, well equipped laboratories, separate computer center, the team of highly qualified faculty and the exhilarating atmosphere in the campus will surely take you to enviable heights in your capabilities and achievements.\n",
        "We have research oriented, challenge seeking, well qualified and devoted faculty to train the students in quality technical education. The ultimate aim of our management and staff is to get higher percentage to our students and place them in multi-national companies.\n",
        "We conduct Seminars, Workshops, STTP, National and International conferences to update the development in science technology.\n",
        "Principal message I believe that the institute will continue to produce competent technocrats and managers who will make significant contribution to the corporate world and industries all over the world which will enable them to serve as global citizens.\n",
        "DEPARTMENTS:\n",
        "Computer Engineering\n",
        "Civil Engineering\n",
        "Information Technology\n",
        "Mechanical Engineering\n",
        "CSE AI and ML\n",
        "CSE Data Science\n",
        "About Training and Placement\n",
        "Training and Placement department is dedicated towards proper placement of students .It advices students on career options and provides the latest information on training & employment opportunities.\n",
        "Focus areas are providing guidance, counseling and bringing students and potential employers together to achive the best possible placement depending on the market conditions .The department looks after the interest of the students and the employers by providing them the necessary platform.\n",
        "Objective\n",
        "To organize campus recruitment for final year students in reputed companies.\n",
        "To facilitate companies for recruiting candidates as per their requirements.\n",
        "Creating awareness amongst the students regarding various career options.\n",
        "To enhance students employability by providing training in Aptitude & soft skills.\n",
        "Helping students for summer training/internship programme.\n",
        "Bridging gap between Industry and Academia through:\n",
        "Seminars, Guest Lectures, Conferences, Corporate Meets & Industrial Visits etc.\n",
        "Coordinating with various departments for imparting value added industry skills.\n",
        "About Training\n",
        "The objective of the training department is to match the corporate expectations by providing them Soft skills, Aptitude & Technical training.\n",
        "The effectiveness of these training is evident from the consistent placement results. Several companies have been visiting the college every year to tap and recruit the young talented students.\n",
        "Guest lectures & Mock interview sessions are being organized with the help of industry experts to bridge the gap between industry & academia.\n",
        "A separate training department focuses on the all-round growth of students by offering certifications such as MTA, PTC, Cloud computing, Java, .net, Big Data, Robotics, Design and simulation keeping each student's core subject and year in mind.\n",
        "Training & Placement Polices\n",
        "The role of the Training and Placement Cell is of a facilitator and councillor for placement related activities. Training and Placement cell does not guarantee a job.\n",
        "Students to consult their Training & Placement Department before registration for the Industry in case of queries.\n",
        "The information about the placement opportunities, schedules etc. will be displayed on T&P Notice Board, near Reception. Students must read this board daily. WhatsApp messages also will be given. After that, no responsibility of  providing info lies with T&P Dept.\n",
        "It is Mandatory for the students interested in Campus Placement to attend various Training programs/ sessions arranged at Institute level.\n",
        "Attending interview without basic preparation (profile/company info etc.) will lead to debarment for few months\n",
        "Once registered, students CAN NOT back out from the further interview processes.\n",
        "Non Attendance for the interview process without prior permission of T&P office, will lead to disqualification from Campus Placement Activities permanently.\n",
        "Once shortlisted, it is mandatory for the students to go through the subsequent selection processes. Attending process casually, underperforming is a disqualification for further opportunities.\n",
        "Institute formals during campus process is Mandatory.\n",
        "About Training & Placement Cell.\n",
        "The Training and Placement cell plays a crucial role in reducing the gap between the Campus and Corporate. It is the dream of every engineering student to get placed in a top organization visiting their campus for recruitment.\n",
        "The Cell operates round the year to facilitate contacts between Hiring Companies and Graduates.\n",
        "The objective of APSIT, Training & Placement Cell is to place all eligible students in reputed IT and core manufacturing, infrastructure companies right at the campus itself.\n",
        "To achieve this objective the cell liaises with the various industrial establishments, corporate houses which conduct campus interviews and select students from all disciplines, by identifying their knowledge skills, attitude matrices of every individual student, creating job profiles for them, identifying areas of training & various methods as per the training requirement.\n",
        "The challenge today is to make students more competent, and ‘Industry Ready’.\n",
        "Companies Requirement\n",
        "Excellent Aptitude\n",
        "Technical Expert\n",
        "Soft Skills\n",
        "Positive Approach\n",
        "Thus, College Aim at\n",
        "Bridging the Gap between Industry and Academics\n",
        "Enhancing Employability\n",
        "Developing All-round Personality\n",
        "Inculcating Managerial Skills.\n",
        "Training and Placement Cell Activities:\n",
        "Arranging in-plant training and industrial visits, during every academic year.\n",
        "Facilitate Student Internships, during every academic year\n",
        "Organizing guest lectures by inviting Corporate Professionals & distinguished Educationists/Academicians.\n",
        "Imparting personality development programs to enhance the soft skills & Communications skills of the Students.\n",
        "To motivate aspiring students to prepare for higher studies and guiding them to take exams such as CAT, GATE, TOEFL, GRE, IES, UPSC, TNPSC etc.\n",
        "Conducting Mock & Preparatory Tests to take up competitive examinations for Higher Studies or for Employment\n",
        "Ensuring training for students during vacations, by proven & reputed firms both on General Aptitude and Technical Aptitude\n",
        "Arranging ON / OFF campus interviews.\n",
        "Communication, Aptitude and Personality Training is imparted to the Students from 2nd year onwards and will be an on-going affair till the odd-semester of their final year.\n",
        "Training Module consists of the following\n",
        "Technical Aptitude\n",
        "Communication Skills\n",
        "General Aptitude\n",
        "Quantitative Reasoning\n",
        "Logical Reasoning\n",
        "Verbal Reasoning\n",
        "Group Discussion\n",
        "Interview Skills\n",
        "Address: Survey No. 12, Opp. Hypercity Mall, Kasarvadavali, Ghodbunder Road, Thane West, Thane, Maharashtra, India 400615\n",
        "Email: reception@apsit.edu.in\n",
        "Public Transporations: APSIT is well connected by number of buses of BEST, TMT, NMMT, MSRTC, MBMT and VVMT. You may get down at Kasarvadavali bus stop to reach APSIT.\n",
        "From Thane:\n",
        "ST Bus Depot Near Thane West Station: Thane - Borivali, Thane - Bhayander, Thane-Ovala\n",
        "TMT Bus Stand Near Thane West Station: Thane - Kasarvadavali, Thane - Ovala, Thane - Miraroad\"\"\""
      ]
    },
    {
      "cell_type": "code",
      "execution_count": null,
      "metadata": {
        "id": "5WhRSpvdF-HW"
      },
      "outputs": [],
      "source": [
        "import tensorflow as tf\n",
        "from tensorflow.keras.preprocessing.text import Tokenizer"
      ]
    },
    {
      "cell_type": "code",
      "execution_count": null,
      "metadata": {
        "id": "Z0j9aMJeF-uT"
      },
      "outputs": [],
      "source": [
        "tokenizer = Tokenizer()"
      ]
    },
    {
      "cell_type": "code",
      "execution_count": null,
      "metadata": {
        "id": "wEa9tpvNGBEP"
      },
      "outputs": [],
      "source": [
        "tokenizer.fit_on_texts([apsit])\n",
        "#used to update the internal vocabulary of the Tokenizer based on a corpus of text data"
      ]
    },
    {
      "cell_type": "code",
      "execution_count": null,
      "metadata": {
        "colab": {
          "base_uri": "https://localhost:8080/"
        },
        "id": "N1n0fkVhGWmi",
        "outputId": "cf210f7a-8a95-48e8-ca9e-9a02aa620048"
      },
      "outputs": [],
      "source": [
        "tokenizer.word_index"
      ]
    },
    {
      "cell_type": "code",
      "execution_count": null,
      "metadata": {
        "colab": {
          "base_uri": "https://localhost:8080/"
        },
        "id": "br68Ay71GhBQ",
        "outputId": "e1d458ae-f3c8-4863-fcdc-33bca798789a"
      },
      "outputs": [
        {
          "data": {
            "text/plain": [
              "554"
            ]
          },
          "execution_count": 6,
          "metadata": {},
          "output_type": "execute_result"
        }
      ],
      "source": [
        "len(tokenizer.word_index)"
      ]
    },
    {
      "cell_type": "code",
      "execution_count": null,
      "metadata": {
        "colab": {
          "base_uri": "https://localhost:8080/"
        },
        "id": "Q7Om0ST-Gjst",
        "outputId": "17334646-8269-4287-c507-d8a92cb3053f"
      },
      "outputs": [],
      "source": [
        "for sentence in apsit.split('\\n'):\n",
        "  print(sentence)"
      ]
    },
    {
      "cell_type": "code",
      "execution_count": null,
      "metadata": {
        "colab": {
          "base_uri": "https://localhost:8080/"
        },
        "id": "d12JSthxHLNE",
        "outputId": "de45d66b-5d0e-47c8-fc15-9b7be9f0076c"
      },
      "outputs": [],
      "source": [
        "for sentence in apsit.split('\\n'):\n",
        "  print(tokenizer.texts_to_sequences([sentence])[0])\n",
        "#used to convert a list of texts into sequences of integers based on the vocabulary learned by the Tokenizer."
      ]
    },
    {
      "cell_type": "code",
      "execution_count": null,
      "metadata": {
        "id": "z1rWg5YcII5P"
      },
      "outputs": [],
      "source": [
        "input_sequences = []\n",
        "for sentence in apsit.split('\\n'):\n",
        "  tokenized_sentence = tokenizer.texts_to_sequences([sentence])[0]\n",
        "\n",
        "  for i in range(1,len(tokenized_sentence)):\n",
        "    input_sequences.append(tokenized_sentence[:i+1])"
      ]
    },
    {
      "cell_type": "code",
      "execution_count": null,
      "metadata": {
        "colab": {
          "base_uri": "https://localhost:8080/"
        },
        "id": "ZNX3j92uKB9f",
        "outputId": "bed46f82-215e-4e81-e013-f6f9b8d6c759"
      },
      "outputs": [],
      "source": [
        "input_sequences"
      ]
    },
    {
      "cell_type": "code",
      "execution_count": null,
      "metadata": {
        "colab": {
          "base_uri": "https://localhost:8080/"
        },
        "id": "gNOAQX3jKd_K",
        "outputId": "991fa2ba-42e7-42ab-b3f1-8f9afd07eb1d"
      },
      "outputs": [],
      "source": [
        "[len(x) for x in input_sequences]"
      ]
    },
    {
      "cell_type": "code",
      "execution_count": null,
      "metadata": {
        "colab": {
          "base_uri": "https://localhost:8080/"
        },
        "id": "aG3zJ7x6K_MH",
        "outputId": "61d1f956-f006-42cf-a889-824db2ca5a9a"
      },
      "outputs": [
        {
          "data": {
            "text/plain": [
              "51"
            ]
          },
          "execution_count": 12,
          "metadata": {},
          "output_type": "execute_result"
        }
      ],
      "source": [
        "max([len(x) for x in input_sequences])"
      ]
    },
    {
      "cell_type": "code",
      "execution_count": null,
      "metadata": {
        "id": "xcGtnwjsLNsq"
      },
      "outputs": [],
      "source": [
        "max_len = max([len(x) for x in input_sequences])"
      ]
    },
    {
      "cell_type": "code",
      "execution_count": null,
      "metadata": {
        "id": "mLTXfV1cLOl-"
      },
      "outputs": [],
      "source": [
        "#zero padding\n",
        "from tensorflow.keras.preprocessing.sequence import pad_sequences\n",
        "padded_input_sequences = pad_sequences(input_sequences, maxlen = max_len, padding='pre')"
      ]
    },
    {
      "cell_type": "code",
      "execution_count": null,
      "metadata": {
        "colab": {
          "base_uri": "https://localhost:8080/"
        },
        "id": "CiAqv_EbLbSN",
        "outputId": "818f4655-fae6-4e56-bd8c-47ebc322cbec"
      },
      "outputs": [],
      "source": [
        "padded_input_sequences"
      ]
    },
    {
      "cell_type": "code",
      "execution_count": null,
      "metadata": {
        "colab": {
          "base_uri": "https://localhost:8080/"
        },
        "id": "V5Fk5lEoLfcw",
        "outputId": "0829b2f8-0be6-4271-868f-3e31cefb1071"
      },
      "outputs": [],
      "source": [
        "padded_input_sequences[:,:-1]"
      ]
    },
    {
      "cell_type": "code",
      "execution_count": null,
      "metadata": {
        "id": "WlhV1U8mL1-h"
      },
      "outputs": [],
      "source": [
        "X = padded_input_sequences[:,:-1]"
      ]
    },
    {
      "cell_type": "code",
      "execution_count": null,
      "metadata": {
        "colab": {
          "base_uri": "https://localhost:8080/"
        },
        "id": "1yBWp60WMJIf",
        "outputId": "c97eafdd-bd65-4b25-884c-91d366fd5789"
      },
      "outputs": [],
      "source": [
        "padded_input_sequences[:,-1]"
      ]
    },
    {
      "cell_type": "code",
      "execution_count": null,
      "metadata": {
        "id": "jmgoN0RtMQ4o"
      },
      "outputs": [],
      "source": [
        "y = padded_input_sequences[:,-1]"
      ]
    },
    {
      "cell_type": "code",
      "execution_count": null,
      "metadata": {
        "colab": {
          "base_uri": "https://localhost:8080/"
        },
        "id": "xUu6Uq7dMS4_",
        "outputId": "53892f01-68e2-43c9-a8c3-dcc249096210"
      },
      "outputs": [],
      "source": [
        "X.shape"
      ]
    },
    {
      "cell_type": "code",
      "execution_count": null,
      "metadata": {
        "colab": {
          "base_uri": "https://localhost:8080/"
        },
        "id": "9izKhWM9M_TW",
        "outputId": "8fc3985c-4da1-4c51-d542-d5ae467e5a33"
      },
      "outputs": [],
      "source": [
        "y.shape"
      ]
    },
    {
      "cell_type": "code",
      "execution_count": null,
      "metadata": {
        "id": "p08QkG3ONBJd"
      },
      "outputs": [],
      "source": [
        "from tensorflow.keras.utils import to_categorical\n",
        "y = to_categorical(y,num_classes=555)"
      ]
    },
    {
      "cell_type": "code",
      "execution_count": null,
      "metadata": {
        "id": "58jVEOJiDjxG"
      },
      "outputs": [],
      "source": []
    },
    {
      "cell_type": "code",
      "execution_count": null,
      "metadata": {
        "colab": {
          "base_uri": "https://localhost:8080/"
        },
        "id": "K_zyEnWfNf0b",
        "outputId": "c4deef45-0171-4872-b310-524378e0b6ff"
      },
      "outputs": [],
      "source": [
        "y.shape"
      ]
    },
    {
      "cell_type": "code",
      "execution_count": null,
      "metadata": {
        "colab": {
          "base_uri": "https://localhost:8080/"
        },
        "id": "8Itc651kNupd",
        "outputId": "cf963c89-6ead-409b-c7f0-cf2b63f1c841"
      },
      "outputs": [],
      "source": [
        "y[0]"
      ]
    },
    {
      "cell_type": "code",
      "execution_count": null,
      "metadata": {
        "id": "Ph8toRxbN1sp"
      },
      "outputs": [],
      "source": [
        "from tensorflow.keras.models import Sequential\n",
        "from tensorflow.keras.layers import Embedding, LSTM, Dense"
      ]
    },
    {
      "cell_type": "code",
      "execution_count": null,
      "metadata": {
        "id": "QZq7CoDKOORD"
      },
      "outputs": [],
      "source": [
        "model = Sequential()\n",
        "model.add(Embedding(555, 100, input_length=50))\n",
        "model.add(LSTM(150))\n",
        "model.add(Dense(555, activation='softmax'))"
      ]
    },
    {
      "cell_type": "code",
      "execution_count": null,
      "metadata": {
        "id": "Da-YZtAgPAuy"
      },
      "outputs": [],
      "source": [
        "model.compile(loss='categorical_crossentropy', optimizer='adam',metrics=['accuracy'])"
      ]
    },
    {
      "cell_type": "code",
      "execution_count": null,
      "metadata": {
        "colab": {
          "base_uri": "https://localhost:8080/"
        },
        "id": "4UiZbQIvPOAt",
        "outputId": "45ed587f-c600-4346-fe20-1ab9b7492dc9"
      },
      "outputs": [],
      "source": [
        "model.summary()"
      ]
    },
    {
      "cell_type": "code",
      "execution_count": null,
      "metadata": {
        "colab": {
          "base_uri": "https://localhost:8080/"
        },
        "id": "LQEmdqqzPP2u",
        "outputId": "58f60e35-5956-4d0a-fda0-7b76e733b69a"
      },
      "outputs": [],
      "source": [
        "model.fit(X,y,epochs=100)"
      ]
    },
    {
      "cell_type": "code",
      "execution_count": null,
      "metadata": {
        "colab": {
          "base_uri": "https://localhost:8080/"
        },
        "id": "Z1VK7HKrQSYz",
        "outputId": "7f032922-dfaf-4de6-9220-4f3f8d24ae0c"
      },
      "outputs": [],
      "source": [
        "text = \"shah\"\n",
        "#tokenize\n",
        "tokenizer.texts_to_sequences([text])[0] #gives list not nested list"
      ]
    },
    {
      "cell_type": "code",
      "execution_count": null,
      "metadata": {
        "id": "ffsm6TaDTD42"
      },
      "outputs": [],
      "source": [
        "token_text = tokenizer.texts_to_sequences([text])[0]"
      ]
    },
    {
      "cell_type": "code",
      "execution_count": null,
      "metadata": {
        "colab": {
          "base_uri": "https://localhost:8080/"
        },
        "id": "QwAeu-g_Se2d",
        "outputId": "7b863674-73b7-4f45-94c6-c7918aff65be"
      },
      "outputs": [],
      "source": [
        "#padding\n",
        "pad_sequences([token_text], maxlen=50, padding='pre')\n"
      ]
    },
    {
      "cell_type": "code",
      "execution_count": null,
      "metadata": {
        "id": "ML1INTYeS8eR"
      },
      "outputs": [],
      "source": [
        "padded_token_text = pad_sequences([token_text], maxlen=50, padding='pre')"
      ]
    },
    {
      "cell_type": "code",
      "execution_count": null,
      "metadata": {
        "colab": {
          "base_uri": "https://localhost:8080/"
        },
        "id": "2T3iBmOyTUn8",
        "outputId": "39294b2c-f641-4fab-8af7-abeff866b7bf"
      },
      "outputs": [],
      "source": [
        "#predict probabilities for 555 multiclasses\n",
        "model.predict(padded_token_text)"
      ]
    },
    {
      "cell_type": "code",
      "execution_count": null,
      "metadata": {
        "colab": {
          "base_uri": "https://localhost:8080/"
        },
        "id": "BJ922oMRTmFk",
        "outputId": "035781f9-9ee4-472f-c1a7-e8ca38848422"
      },
      "outputs": [],
      "source": [
        "#555 multiclasses\n",
        "model.predict(padded_token_text).shape"
      ]
    },
    {
      "cell_type": "code",
      "execution_count": null,
      "metadata": {
        "id": "GR5PX-8VT7RP"
      },
      "outputs": [],
      "source": [
        "import numpy as np\n"
      ]
    },
    {
      "cell_type": "code",
      "execution_count": null,
      "metadata": {
        "colab": {
          "base_uri": "https://localhost:8080/"
        },
        "id": "2Hy6tMBMUM6m",
        "outputId": "4cfca428-2bf0-4116-8127-29da1d25075e"
      },
      "outputs": [],
      "source": [
        "np.argmax(model.predict(padded_token_text))"
      ]
    },
    {
      "cell_type": "code",
      "execution_count": null,
      "metadata": {
        "colab": {
          "base_uri": "https://localhost:8080/"
        },
        "id": "7Z-39W8cUbLM",
        "outputId": "0535f61d-5525-4d20-ac10-d84ab592c4d4"
      },
      "outputs": [],
      "source": [
        "tokenizer.word_index"
      ]
    },
    {
      "cell_type": "code",
      "execution_count": null,
      "metadata": {
        "colab": {
          "base_uri": "https://localhost:8080/"
        },
        "id": "6znxi_TcUv7_",
        "outputId": "6db2dec8-5f29-496b-90e8-fe2c974e0141"
      },
      "outputs": [],
      "source": [
        "pos = np.argmax(model.predict(padded_token_text))\n",
        "for word,index in tokenizer.word_index.items():\n",
        "    if index == pos:\n",
        "      print(word)"
      ]
    },
    {
      "cell_type": "code",
      "execution_count": null,
      "metadata": {
        "colab": {
          "base_uri": "https://localhost:8080/"
        },
        "id": "ulPXlb9yU-g1",
        "outputId": "320f794e-7724-477e-8a84-b00b4b849659"
      },
      "outputs": [],
      "source": [
        "# predict next 10 words\n",
        "import time\n",
        "text = \"A P Shah\"\n",
        "\n",
        "for i in range(10):\n",
        "  # tokenize\n",
        "  token_text = tokenizer.texts_to_sequences([text])[0]\n",
        "  # padding\n",
        "  padded_token_text = pad_sequences([token_text], maxlen=50, padding='pre')\n",
        "  # predict\n",
        "  pos = np.argmax(model.predict(padded_token_text))\n",
        "\n",
        "  for word,index in tokenizer.word_index.items():\n",
        "    if index == pos:\n",
        "      text = text + \" \" + word\n",
        "      print(text)\n",
        "      time.sleep(2)"
      ]
    },
    {
      "cell_type": "code",
      "execution_count": null,
      "metadata": {
        "colab": {
          "base_uri": "https://localhost:8080/"
        },
        "id": "ppriqYduWkXO",
        "outputId": "48c20365-15bf-4425-d78f-70375f82bd80"
      },
      "outputs": [],
      "source": [
        "# predictiction on unseen data\n",
        "import time\n",
        "text = \"Engineering\"\n",
        "\n",
        "for i in range(10):\n",
        "  # tokenize\n",
        "  token_text = tokenizer.texts_to_sequences([text])[0]\n",
        "  # padding\n",
        "  padded_token_text = pad_sequences([token_text], maxlen=50, padding='pre')\n",
        "  # predict\n",
        "  pos = np.argmax(model.predict(padded_token_text))\n",
        "\n",
        "  for word,index in tokenizer.word_index.items():\n",
        "    if index == pos:\n",
        "      text = text + \" \" + word\n",
        "      print(text)\n",
        "      time.sleep(2)"
      ]
    }
  ],
  "metadata": {
    "colab": {
      "provenance": []
    },
    "kernelspec": {
      "display_name": "Python 3",
      "name": "python3"
    },
    "language_info": {
      "name": "python"
    }
  },
  "nbformat": 4,
  "nbformat_minor": 0
}
