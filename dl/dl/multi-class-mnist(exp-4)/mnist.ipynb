{
  "cells": [
    {
      "cell_type": "code",
      "execution_count": null,
      "metadata": {
        "id": "4KzyQ4LW1mKl"
      },
      "outputs": [],
      "source": [
        "import tensorflow\n",
        "from tensorflow import keras\n",
        "from tensorflow.keras import Sequential\n",
        "from tensorflow.keras.layers import Dense,Flatten"
      ]
    },
    {
      "cell_type": "code",
      "execution_count": null,
      "metadata": {
        "colab": {
          "base_uri": "https://localhost:8080/"
        },
        "id": "HVRKmcU44CDw",
        "outputId": "4520fe7e-e878-4017-ebdf-c879d11aca53"
      },
      "outputs": [],
      "source": [
        "(X_train, y_train), (X_test, y_test) = keras.datasets.mnist.load_data()"
      ]
    },
    {
      "cell_type": "code",
      "execution_count": null,
      "metadata": {
        "colab": {
          "base_uri": "https://localhost:8080/"
        },
        "id": "Wy4X8W_W4gxn",
        "outputId": "cad2ce94-2054-4560-f3eb-c0f94f152428"
      },
      "outputs": [],
      "source": [
        "X_train.shape"
      ]
    },
    {
      "cell_type": "code",
      "execution_count": null,
      "metadata": {
        "id": "KJBztIWG4krv"
      },
      "outputs": [],
      "source": [
        "X_train"
      ]
    },
    {
      "cell_type": "code",
      "execution_count": null,
      "metadata": {
        "colab": {
          "base_uri": "https://localhost:8080/",
          "height": 68
        },
        "id": "TuhzXnug4rkJ",
        "outputId": "bf1c6d9d-2b5a-44ad-ae07-072b5a86dc0e"
      },
      "outputs": [],
      "source": [
        "X_train[0]"
      ]
    },
    {
      "cell_type": "code",
      "execution_count": null,
      "metadata": {
        "colab": {
          "base_uri": "https://localhost:8080/"
        },
        "id": "cigMI31442O5",
        "outputId": "5b7a756c-2997-468c-a02e-fb28f2540a3f"
      },
      "outputs": [],
      "source": [
        "X_test.shape"
      ]
    },
    {
      "cell_type": "code",
      "execution_count": null,
      "metadata": {
        "colab": {
          "base_uri": "https://localhost:8080/"
        },
        "id": "Ao1FR_5I5CoF",
        "outputId": "cf3d9163-75aa-4b91-ba11-b95a2fef05b8"
      },
      "outputs": [],
      "source": [
        "y_train"
      ]
    },
    {
      "cell_type": "code",
      "execution_count": null,
      "metadata": {
        "colab": {
          "base_uri": "https://localhost:8080/",
          "height": 447
        },
        "id": "FZDkRjk75DjF",
        "outputId": "1152a407-8f92-47f7-bc76-b13f44a49c18"
      },
      "outputs": [],
      "source": [
        "import matplotlib.pyplot as plt\n",
        "plt.imshow(X_train[0])"
      ]
    },
    {
      "cell_type": "code",
      "execution_count": null,
      "metadata": {
        "colab": {
          "base_uri": "https://localhost:8080/",
          "height": 447
        },
        "id": "39RNTbpI5bWG",
        "outputId": "648f67c7-c22b-4b91-d174-e04215d129e4"
      },
      "outputs": [],
      "source": [
        "plt.imshow(X_train[1])"
      ]
    },
    {
      "cell_type": "code",
      "execution_count": null,
      "metadata": {
        "colab": {
          "base_uri": "https://localhost:8080/",
          "height": 447
        },
        "id": "eFIPkigJ51J6",
        "outputId": "9fdae70e-b51b-4cde-dd05-55022dfbdaa1"
      },
      "outputs": [],
      "source": [
        "plt.imshow(X_train[2])"
      ]
    },
    {
      "cell_type": "code",
      "execution_count": null,
      "metadata": {
        "id": "oHw6qvYQ56oo"
      },
      "outputs": [],
      "source": [
        "X_train = X_train/255\n",
        "X_test = X_test/255"
      ]
    },
    {
      "cell_type": "code",
      "execution_count": null,
      "metadata": {
        "colab": {
          "base_uri": "https://localhost:8080/"
        },
        "id": "zmc9rbWe6Exz",
        "outputId": "2b239735-e6f4-49e9-b58a-3d00bdd6b88b"
      },
      "outputs": [],
      "source": [
        "X_train[0]"
      ]
    },
    {
      "cell_type": "code",
      "execution_count": null,
      "metadata": {
        "id": "ZlvBGjIN6Hnp"
      },
      "outputs": [],
      "source": [
        "model = Sequential()\n",
        "model.add(Flatten(input_shape=(28,28)))\n",
        "model.add(Dense(128,activation='relu'))\n",
        "model.add(Dense(10,activation='softmax'))"
      ]
    },
    {
      "cell_type": "code",
      "execution_count": null,
      "metadata": {
        "colab": {
          "base_uri": "https://localhost:8080/"
        },
        "id": "FJQp3hX-6l-R",
        "outputId": "2bd033cc-417d-434f-ea20-f5b49bce42c5"
      },
      "outputs": [],
      "source": [
        "model.summary()"
      ]
    },
    {
      "cell_type": "code",
      "execution_count": null,
      "metadata": {
        "id": "z_Jjj-z067Z2"
      },
      "outputs": [],
      "source": [
        "model.compile(loss='sparse_categorical_crossentropy', optimizer='Adam', metrics=['accuracy'])"
      ]
    },
    {
      "cell_type": "code",
      "execution_count": null,
      "metadata": {
        "colab": {
          "base_uri": "https://localhost:8080/"
        },
        "id": "VYCM2_cg8JMT",
        "outputId": "ef37bf6a-32b6-4458-dac3-7a148c47d82a"
      },
      "outputs": [],
      "source": [
        "history = model.fit(X_train,y_train,epochs=10,validation_split=0.2)"
      ]
    },
    {
      "cell_type": "code",
      "execution_count": null,
      "metadata": {
        "colab": {
          "base_uri": "https://localhost:8080/"
        },
        "id": "FZpbnOCu8YC2",
        "outputId": "b9ac3dce-d9eb-4e0d-b853-85fcdd011f86"
      },
      "outputs": [],
      "source": [
        "model.predict(X_test)"
      ]
    },
    {
      "cell_type": "code",
      "execution_count": null,
      "metadata": {
        "colab": {
          "base_uri": "https://localhost:8080/"
        },
        "id": "L5GdST7d9OfX",
        "outputId": "c610d46d-92cf-433a-ab4d-96621407f628"
      },
      "outputs": [],
      "source": [
        "y_prob = model.predict(X_test)"
      ]
    },
    {
      "cell_type": "code",
      "execution_count": null,
      "metadata": {
        "colab": {
          "base_uri": "https://localhost:8080/"
        },
        "id": "Yi58KUg_91bH",
        "outputId": "de73214b-2542-47a6-899a-b6fa3be8067b"
      },
      "outputs": [],
      "source": [
        "y_prob"
      ]
    },
    {
      "cell_type": "code",
      "execution_count": null,
      "metadata": {
        "colab": {
          "base_uri": "https://localhost:8080/"
        },
        "id": "xAF33r6b9cHY",
        "outputId": "872c1bfc-5392-4172-f7f4-241a3dabe601"
      },
      "outputs": [],
      "source": [
        "y_prob.argmax(axis=1)"
      ]
    },
    {
      "cell_type": "code",
      "execution_count": null,
      "metadata": {
        "id": "hqBMeJTW9ygp"
      },
      "outputs": [],
      "source": [
        "y_pred=y_prob.argmax(axis=1)"
      ]
    },
    {
      "cell_type": "code",
      "execution_count": null,
      "metadata": {
        "colab": {
          "base_uri": "https://localhost:8080/"
        },
        "id": "Lx2U16OD-GOR",
        "outputId": "4e1c3367-1ca5-49db-ed1f-ec02eef3d125"
      },
      "outputs": [],
      "source": [
        "from sklearn.metrics import accuracy_score\n",
        "accuracy_score(y_test,y_pred)"
      ]
    },
    {
      "cell_type": "code",
      "execution_count": null,
      "metadata": {
        "colab": {
          "base_uri": "https://localhost:8080/"
        },
        "id": "o_SnZhlM-l0b",
        "outputId": "51189f28-118f-424e-df13-f33bcebd42f5"
      },
      "outputs": [],
      "source": [
        "X_test[0]"
      ]
    },
    {
      "cell_type": "code",
      "execution_count": null,
      "metadata": {
        "colab": {
          "base_uri": "https://localhost:8080/",
          "height": 447
        },
        "id": "Z6x74Erq-ue2",
        "outputId": "26b5693c-2c56-449f-b3c6-b7c938c5c258"
      },
      "outputs": [],
      "source": [
        "plt.imshow(X_test[0])"
      ]
    },
    {
      "cell_type": "code",
      "execution_count": null,
      "metadata": {
        "colab": {
          "base_uri": "https://localhost:8080/"
        },
        "id": "d5LhfFHu-3p0",
        "outputId": "6c0a44aa-04f1-4a3c-cb95-d845875ddb5c"
      },
      "outputs": [],
      "source": [
        "model.predict(X_test[0].reshape(1,28,28))"
      ]
    },
    {
      "cell_type": "code",
      "execution_count": null,
      "metadata": {
        "colab": {
          "base_uri": "https://localhost:8080/"
        },
        "id": "5mclQRO5_DPp",
        "outputId": "fc195e55-2a75-4613-f3e4-8b627be4f8eb"
      },
      "outputs": [],
      "source": [
        "model.predict(X_test[0].reshape(1,28,28)).argmax(axis=1)"
      ]
    },
    {
      "cell_type": "code",
      "execution_count": null,
      "metadata": {
        "colab": {
          "base_uri": "https://localhost:8080/",
          "height": 447
        },
        "id": "zBlcF1vb_itn",
        "outputId": "9f8ab7c9-15fb-4122-9abf-89dcc54c7d65"
      },
      "outputs": [],
      "source": [
        "plt.imshow(X_test[1])"
      ]
    },
    {
      "cell_type": "code",
      "execution_count": null,
      "metadata": {
        "colab": {
          "base_uri": "https://localhost:8080/"
        },
        "id": "KNYZWY5v_kRi",
        "outputId": "998f7bf8-4812-4403-9754-4be3d944cc51"
      },
      "outputs": [],
      "source": [
        "model.predict(X_test[1].reshape(1,28,28))"
      ]
    },
    {
      "cell_type": "code",
      "execution_count": null,
      "metadata": {
        "colab": {
          "base_uri": "https://localhost:8080/"
        },
        "id": "VMWIcmNg_oi2",
        "outputId": "b6cb2985-13e2-40c3-da94-9c76e9900ae7"
      },
      "outputs": [],
      "source": [
        "model.predict(X_test[1].reshape(1,28,28)).argmax(axis=1)"
      ]
    },
    {
      "cell_type": "code",
      "execution_count": null,
      "metadata": {
        "colab": {
          "base_uri": "https://localhost:8080/",
          "height": 447
        },
        "id": "moEOIZzp_tND",
        "outputId": "e9110ea0-4acc-45d2-d808-29319b64e443"
      },
      "outputs": [],
      "source": [
        "plt.imshow(X_test[2])"
      ]
    },
    {
      "cell_type": "code",
      "execution_count": null,
      "metadata": {
        "colab": {
          "base_uri": "https://localhost:8080/"
        },
        "id": "iDcNGqyv_wze",
        "outputId": "df44aea8-0279-497c-aefe-4d38175b5d20"
      },
      "outputs": [],
      "source": [
        "model.predict(X_test[2].reshape(1,28,28))"
      ]
    },
    {
      "cell_type": "code",
      "execution_count": null,
      "metadata": {
        "colab": {
          "base_uri": "https://localhost:8080/"
        },
        "id": "CjHHqm_o_zPD",
        "outputId": "7adefd8f-8532-4f45-dab7-4d29d8d5cafb"
      },
      "outputs": [],
      "source": [
        "model.predict(X_test[2].reshape(1,28,28)).argmax(axis=1)"
      ]
    },
    {
      "cell_type": "code",
      "execution_count": null,
      "metadata": {
        "colab": {
          "base_uri": "https://localhost:8080/",
          "height": 448
        },
        "id": "0ekxYY14_2cR",
        "outputId": "80350943-69c1-4d76-ae42-62e51a7ada81"
      },
      "outputs": [],
      "source": [
        "plt.plot(history.history['loss'])\n",
        "plt.plot(history.history['val_loss'])"
      ]
    }
  ],
  "metadata": {
    "colab": {
      "provenance": []
    },
    "kernelspec": {
      "display_name": "Python 3",
      "name": "python3"
    },
    "language_info": {
      "name": "python"
    }
  },
  "nbformat": 4,
  "nbformat_minor": 0
}
