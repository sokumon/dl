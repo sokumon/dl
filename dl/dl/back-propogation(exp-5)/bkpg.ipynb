{
  "cells": [
    {
      "cell_type": "code",
      "execution_count": null,
      "metadata": {
        "id": "XZ1g966D7yTJ"
      },
      "outputs": [],
      "source": [
        "import pandas as pd\n",
        "import tensorflow\n",
        "from tensorflow import keras\n",
        "from keras.models import Sequential\n",
        "from keras.layers import Dense"
      ]
    },
    {
      "cell_type": "code",
      "execution_count": null,
      "metadata": {
        "id": "B_Js34Kk8Oqj"
      },
      "outputs": [],
      "source": [
        "df = pd.read_csv('/content/placementdataset.csv')"
      ]
    },
    {
      "cell_type": "code",
      "execution_count": null,
      "metadata": {
        "colab": {
          "base_uri": "https://localhost:8080/",
          "height": 679
        },
        "id": "AcvHG8WF8aqK",
        "outputId": "fc89bbcf-66ba-40e0-d08f-207ff84d9bce"
      },
      "outputs": [],
      "source": [
        "df.head()"
      ]
    },
    {
      "cell_type": "code",
      "execution_count": null,
      "metadata": {
        "colab": {
          "base_uri": "https://localhost:8080/"
        },
        "id": "JuiA3Bhv8bvz",
        "outputId": "52553b04-4a18-4413-e3f7-7b0e9d2446e7"
      },
      "outputs": [],
      "source": [
        "df.shape"
      ]
    },
    {
      "cell_type": "code",
      "execution_count": null,
      "metadata": {
        "colab": {
          "base_uri": "https://localhost:8080/"
        },
        "id": "RlxXFt3w8edy",
        "outputId": "e237ee35-81b3-495f-be05-b35fdd73772d"
      },
      "outputs": [],
      "source": [
        "df.info()"
      ]
    },
    {
      "cell_type": "code",
      "execution_count": null,
      "metadata": {
        "colab": {
          "base_uri": "https://localhost:8080/"
        },
        "id": "AWKyZcKP87Mo",
        "outputId": "4504dbfc-14b4-4de5-9aa7-366bc0b64dc1"
      },
      "outputs": [],
      "source": [
        "df.duplicated().sum()"
      ]
    },
    {
      "cell_type": "code",
      "execution_count": null,
      "metadata": {
        "id": "p0qfgW9m9JtM"
      },
      "outputs": [],
      "source": [
        "df = df.drop_duplicates()"
      ]
    },
    {
      "cell_type": "code",
      "execution_count": null,
      "metadata": {
        "colab": {
          "base_uri": "https://localhost:8080/"
        },
        "id": "63xFSGRH9kXt",
        "outputId": "4ff5b43d-cc80-4856-c598-7f62b070f376"
      },
      "outputs": [],
      "source": [
        "df.shape"
      ]
    },
    {
      "cell_type": "code",
      "execution_count": null,
      "metadata": {
        "id": "6cfOVQW39obE"
      },
      "outputs": [],
      "source": [
        "X = df[['CGPA', 'Profile_Score']]\n",
        "y = df[\"Placed\"]"
      ]
    },
    {
      "cell_type": "code",
      "execution_count": null,
      "metadata": {
        "colab": {
          "base_uri": "https://localhost:8080/"
        },
        "id": "JgzTw0sl-AOp",
        "outputId": "58654493-944a-4ec5-fb3d-01f5e770ebf9"
      },
      "outputs": [],
      "source": [
        "y"
      ]
    },
    {
      "cell_type": "code",
      "execution_count": null,
      "metadata": {
        "colab": {
          "base_uri": "https://localhost:8080/",
          "height": 206
        },
        "id": "x0ERJ130AbdB",
        "outputId": "70ce0fff-35d5-4c2d-c582-de735e17f674"
      },
      "outputs": [],
      "source": [
        "X.head()"
      ]
    },
    {
      "cell_type": "code",
      "execution_count": null,
      "metadata": {
        "id": "re_XGsZWAdyW"
      },
      "outputs": [],
      "source": [
        "model = Sequential()\n",
        "model.add(Dense(4, input_dim=2, activation='relu'))\n",
        "model.add(Dense(4, activation='relu'))\n",
        "model.add(Dense(1, activation='sigmoid'))"
      ]
    },
    {
      "cell_type": "code",
      "execution_count": null,
      "metadata": {
        "colab": {
          "base_uri": "https://localhost:8080/"
        },
        "id": "TBYSWKnRA_eE",
        "outputId": "54cddeb9-1260-430a-d703-540476e7da32"
      },
      "outputs": [],
      "source": [
        "model.summary()"
      ]
    },
    {
      "cell_type": "code",
      "execution_count": null,
      "metadata": {
        "colab": {
          "base_uri": "https://localhost:8080/"
        },
        "id": "jwjcMRF1BA_h",
        "outputId": "5fcbb263-9177-4530-b6c5-a6ac382c7880"
      },
      "outputs": [],
      "source": [
        "model.get_weights()"
      ]
    },
    {
      "cell_type": "code",
      "execution_count": null,
      "metadata": {
        "id": "FXtPEXn0BQl6"
      },
      "outputs": [],
      "source": [
        "model.compile(loss='binary_crossentropy', optimizer='adam', metrics=['accuracy'])"
      ]
    },
    {
      "cell_type": "code",
      "execution_count": null,
      "metadata": {
        "colab": {
          "base_uri": "https://localhost:8080/"
        },
        "id": "MoBy-5cwBijc",
        "outputId": "60f0371a-d4a3-4760-b042-6114e5405802"
      },
      "outputs": [],
      "source": [
        "history = model.fit(X, y, epochs=100, batch_size=1, verbose=1)"
      ]
    },
    {
      "cell_type": "code",
      "execution_count": null,
      "metadata": {
        "colab": {
          "base_uri": "https://localhost:8080/"
        },
        "id": "6JAvMBKgB-BC",
        "outputId": "2cb56908-865c-40cf-979f-6d5c8af9eee4"
      },
      "outputs": [],
      "source": [
        "loss, accuracy = model.evaluate(X, y)\n",
        "print(f'Loss: {loss}, Accuracy: {accuracy}')"
      ]
    },
    {
      "cell_type": "code",
      "execution_count": null,
      "metadata": {
        "colab": {
          "base_uri": "https://localhost:8080/",
          "height": 472
        },
        "id": "02ryqiOeCmoh",
        "outputId": "3d89a74c-a8f4-45d4-ce52-0906365e3137"
      },
      "outputs": [],
      "source": [
        "import matplotlib.pyplot as plt\n",
        "plt.plot(history.history['loss'])\n",
        "plt.title('Model Loss')\n",
        "plt.xlabel('Epochs')\n",
        "plt.ylabel('Loss')\n",
        "plt.show()"
      ]
    },
    {
      "cell_type": "code",
      "execution_count": null,
      "metadata": {
        "colab": {
          "base_uri": "https://localhost:8080/",
          "height": 472
        },
        "id": "kcltFJ4XDEqu",
        "outputId": "cd9831c2-f325-4517-af55-099a286a8ab8"
      },
      "outputs": [],
      "source": [
        "plt.plot(history.history['accuracy'])\n",
        "plt.title('Model Loss')\n",
        "plt.xlabel('Epochs')\n",
        "plt.ylabel('Accuracy')\n",
        "plt.show()"
      ]
    },
    {
      "cell_type": "code",
      "execution_count": null,
      "metadata": {
        "colab": {
          "base_uri": "https://localhost:8080/"
        },
        "id": "t5nwto7CDnVq",
        "outputId": "502ffeaf-f371-4b78-bf0e-f8d5d1fb4543"
      },
      "outputs": [],
      "source": [
        "import numpy as np\n",
        "new_data = np.array([[8.1, 6.1]])\n",
        "prediction = model.predict([new_data])"
      ]
    },
    {
      "cell_type": "code",
      "execution_count": null,
      "metadata": {
        "colab": {
          "base_uri": "https://localhost:8080/"
        },
        "id": "2rTvzh8zEhyZ",
        "outputId": "f862f560-60d7-447d-c1db-8b3d32137523"
      },
      "outputs": [],
      "source": [
        "prediction"
      ]
    },
    {
      "cell_type": "code",
      "execution_count": null,
      "metadata": {
        "colab": {
          "base_uri": "https://localhost:8080/"
        },
        "id": "HE1I-TPQEjRN",
        "outputId": "37cd82d1-f715-4dfd-c187-6d0db5451b05"
      },
      "outputs": [],
      "source": [
        "prediction_binary = (prediction > 0.5).astype(int)\n",
        "print(\"Prediction:\", prediction_binary)"
      ]
    }
  ],
  "metadata": {
    "colab": {
      "provenance": []
    },
    "kernelspec": {
      "display_name": "Python 3",
      "name": "python3"
    },
    "language_info": {
      "name": "python"
    }
  },
  "nbformat": 4,
  "nbformat_minor": 0
}
